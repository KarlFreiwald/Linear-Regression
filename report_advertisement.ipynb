{
 "cells": [
  {
   "cell_type": "markdown",
   "id": "f52ed9ef-c521-41ea-94c3-c1120f0623c0",
   "metadata": {},
   "source": [
    "# report\n",
    "## Blatt 8 Aufgabe 2"
   ]
  },
  {
   "cell_type": "code",
   "execution_count": 26,
   "id": "18708c0b-b8e5-403e-ac0d-126e7a2b59af",
   "metadata": {},
   "outputs": [],
   "source": [
    "import numpy as np\n",
    "from numpy.linalg import inv\n",
    "import matplotlib.pyplot as plt\n",
    "import pandas as pd\n",
    "#import sklearn\n",
    "from sklearn import preprocessing\n",
    "from sklearn import datasets\n",
    "from sklearn.metrics import r2_score\n",
    "from sklearn.model_selection import train_test_split\n",
    "from sklearn.linear_model import LinearRegression"
   ]
  },
  {
   "cell_type": "markdown",
   "id": "22345978-f7c5-4152-96fc-aba3e18c0796",
   "metadata": {},
   "source": [
    "## loading datasets"
   ]
  },
  {
   "cell_type": "code",
   "execution_count": 27,
   "id": "e36053b0-0230-490f-bb02-629e869328b2",
   "metadata": {},
   "outputs": [],
   "source": [
    "advertisement = pd.read_csv('advertisement.csv')\n",
    "\n",
    "# deleting first column of dataframe\n",
    "advertisement = advertisement.iloc[: , 1:]"
   ]
  },
  {
   "cell_type": "code",
   "execution_count": 28,
   "id": "9ceb8e61-ff8b-4af9-baaa-eccd642e3d9c",
   "metadata": {},
   "outputs": [
    {
     "name": "stdout",
     "output_type": "stream",
     "text": [
      "(200, 4)\n"
     ]
    },
    {
     "data": {
      "text/html": [
       "<div>\n",
       "<style scoped>\n",
       "    .dataframe tbody tr th:only-of-type {\n",
       "        vertical-align: middle;\n",
       "    }\n",
       "\n",
       "    .dataframe tbody tr th {\n",
       "        vertical-align: top;\n",
       "    }\n",
       "\n",
       "    .dataframe thead th {\n",
       "        text-align: right;\n",
       "    }\n",
       "</style>\n",
       "<table border=\"1\" class=\"dataframe\">\n",
       "  <thead>\n",
       "    <tr style=\"text-align: right;\">\n",
       "      <th></th>\n",
       "      <th>TV</th>\n",
       "      <th>Radio</th>\n",
       "      <th>Newspaper</th>\n",
       "      <th>Sales</th>\n",
       "    </tr>\n",
       "  </thead>\n",
       "  <tbody>\n",
       "    <tr>\n",
       "      <th>0</th>\n",
       "      <td>230.1</td>\n",
       "      <td>37.8</td>\n",
       "      <td>69.2</td>\n",
       "      <td>22.1</td>\n",
       "    </tr>\n",
       "    <tr>\n",
       "      <th>1</th>\n",
       "      <td>44.5</td>\n",
       "      <td>39.3</td>\n",
       "      <td>45.1</td>\n",
       "      <td>10.4</td>\n",
       "    </tr>\n",
       "    <tr>\n",
       "      <th>2</th>\n",
       "      <td>17.2</td>\n",
       "      <td>45.9</td>\n",
       "      <td>69.3</td>\n",
       "      <td>9.3</td>\n",
       "    </tr>\n",
       "    <tr>\n",
       "      <th>3</th>\n",
       "      <td>151.5</td>\n",
       "      <td>41.3</td>\n",
       "      <td>58.5</td>\n",
       "      <td>18.5</td>\n",
       "    </tr>\n",
       "    <tr>\n",
       "      <th>4</th>\n",
       "      <td>180.8</td>\n",
       "      <td>10.8</td>\n",
       "      <td>58.4</td>\n",
       "      <td>12.9</td>\n",
       "    </tr>\n",
       "  </tbody>\n",
       "</table>\n",
       "</div>"
      ],
      "text/plain": [
       "      TV  Radio  Newspaper  Sales\n",
       "0  230.1   37.8       69.2   22.1\n",
       "1   44.5   39.3       45.1   10.4\n",
       "2   17.2   45.9       69.3    9.3\n",
       "3  151.5   41.3       58.5   18.5\n",
       "4  180.8   10.8       58.4   12.9"
      ]
     },
     "execution_count": 28,
     "metadata": {},
     "output_type": "execute_result"
    }
   ],
   "source": [
    "print(advertisement.shape)\n",
    "advertisement.head()\n",
    "#advertisement.shape"
   ]
  },
  {
   "cell_type": "code",
   "execution_count": 29,
   "id": "9ab22367-0755-4ebc-a60a-b2dd76b1c79a",
   "metadata": {},
   "outputs": [],
   "source": [
    "advertisement_X = advertisement.loc[: , advertisement.columns != 'Sales']\n",
    "#advertisement_X = preprocessing.normalize(advertisement_X, axis=0)\n",
    "advertisement_y = advertisement.loc[: , 'Sales']"
   ]
  },
  {
   "cell_type": "code",
   "execution_count": 30,
   "id": "9b3ed31a-f33f-4ead-892c-eb835a574604",
   "metadata": {},
   "outputs": [],
   "source": [
    "data_X = advertisement_X\n",
    "data_y = advertisement_y"
   ]
  },
  {
   "cell_type": "code",
   "execution_count": 31,
   "id": "8d961fc8-a851-440b-a27b-866c4b794b8a",
   "metadata": {},
   "outputs": [
    {
     "name": "stdout",
     "output_type": "stream",
     "text": [
      "(200, 3)\n",
      "(200,)\n"
     ]
    }
   ],
   "source": [
    "print(data_X.shape)\n",
    "print(data_y.shape)"
   ]
  },
  {
   "cell_type": "code",
   "execution_count": 32,
   "id": "8f87e23d-ad3f-459e-9eac-8997bb8231b0",
   "metadata": {},
   "outputs": [],
   "source": [
    "iterations = 50"
   ]
  },
  {
   "cell_type": "markdown",
   "id": "a35dc4ef-ad10-4063-87b1-3ef3d1d2c8ec",
   "metadata": {},
   "source": [
    "## linear regression function"
   ]
  },
  {
   "cell_type": "code",
   "execution_count": 33,
   "id": "ff032ac9-b6eb-4eca-bd5c-f1b4ff7d2420",
   "metadata": {},
   "outputs": [],
   "source": [
    "def augment(X):\n",
    "    return np.column_stack((np.ones(X.shape[0]), X))"
   ]
  },
  {
   "cell_type": "code",
   "execution_count": 34,
   "id": "e4afbfe0-2810-4679-841d-6dcabf73ae78",
   "metadata": {},
   "outputs": [],
   "source": [
    "def f_hat (w, X):\n",
    "    return w @ X.T"
   ]
  },
  {
   "cell_type": "code",
   "execution_count": 35,
   "id": "3f044580-3994-4948-81c9-237b0870ee31",
   "metadata": {},
   "outputs": [
    {
     "name": "stdout",
     "output_type": "stream",
     "text": [
      "[0. 1.]\n",
      "[[1. 3.]\n",
      " [1. 5.]\n",
      " [1. 4.]]\n"
     ]
    },
    {
     "data": {
      "text/plain": [
       "array([3., 5., 4.])"
      ]
     },
     "execution_count": 35,
     "metadata": {},
     "output_type": "execute_result"
    }
   ],
   "source": [
    "w = np.array([0.0, 1.0])\n",
    "print(w.T)\n",
    "X = np.array([\n",
    "    [1.0, 3.0],\n",
    "    [1.0, 5.0],\n",
    "    [1.0, 4.0]\n",
    "])\n",
    "print(X)\n",
    "f_hat(w, X)"
   ]
  },
  {
   "cell_type": "markdown",
   "id": "bc2046f3-9c7b-468a-90c6-c1b03c2d9b42",
   "metadata": {},
   "source": [
    "## linear regression on single features"
   ]
  },
  {
   "cell_type": "code",
   "execution_count": 36,
   "id": "a0ba29b2-e5a0-4827-b212-1d0fe5b43e43",
   "metadata": {},
   "outputs": [],
   "source": [
    "nb_weights = 1+1\n",
    "w_opt = np.zeros([iterations, nb_weights])\n",
    "R2_scores = np.zeros(iterations)\n",
    "\n",
    "w_mean = np.zeros([data_X.shape[1], nb_weights])\n",
    "R2_mean = np.zeros([data_X.shape[1]])\n",
    "\n",
    "for col in np.arange(data_X.shape[1]):\n",
    "    for i in np.arange(iterations):\n",
    "        X_train, X_test, y_train, y_test = train_test_split(data_X, data_y, test_size=0.25, train_size=0.75)\n",
    "        X = augment(X_train.iloc[:, col])\n",
    "        w = inv(X.T @ X) @ X.T @ y_train\n",
    "        w_opt[i] = w\n",
    "        R2_scores[i] = r2_score(y_test, f_hat(w, augment(X_test.iloc[:, col])))\n",
    "    w_mean[col] = w_opt.mean(axis=0)\n",
    "    R2_mean[col] = R2_scores.mean()"
   ]
  },
  {
   "cell_type": "code",
   "execution_count": 37,
   "id": "a35cafdc-14e0-48c7-ab9c-d9e61b7acaa7",
   "metadata": {},
   "outputs": [
    {
     "name": "stdout",
     "output_type": "stream",
     "text": [
      "[[ 6.98620715  0.04783594]\n",
      " [ 9.31815791  0.20159325]\n",
      " [12.38735005  0.05533112]]\n",
      "[0.57097935 0.31109157 0.00462778]\n",
      "[57.1  31.11  0.46]\n"
     ]
    }
   ],
   "source": [
    "print(w_mean)\n",
    "print(R2_mean)\n",
    "print(np.around(R2_mean*100,2))"
   ]
  },
  {
   "cell_type": "code",
   "execution_count": 38,
   "id": "e00fd986-b56e-4fc2-8086-c9813b03af9b",
   "metadata": {},
   "outputs": [
    {
     "data": {
      "image/png": "[encoded data removed]",
      "text/plain": [
       "<Figure size 864x288 with 3 Axes>"
      ]
     },
     "metadata": {
      "needs_background": "light"
     },
     "output_type": "display_data"
    }
   ],
   "source": [
    "fig=plt.figure(figsize=(12, 4))\n",
    "\n",
    "for i in np.arange(data_X.shape[1]):\n",
    "    ax = plt.subplot(1, 3,i+1)\n",
    "    fig.add_subplot(ax)\n",
    "    plt.scatter(X_test.iloc[:, i], y_test, alpha=0.5)\n",
    "    xs = np.linspace(0.0, X_test.iloc[:, i].max(), X_test.shape[0])\n",
    "    ys = f_hat(w_mean[i], augment(xs))\n",
    "    plt.plot(xs, ys, c='r')\n",
    "    \n",
    "#plt.savefig('single_feature_LR_advertisement.png')\n",
    "plt.show()"
   ]
  },
  {
   "cell_type": "code",
   "execution_count": 39,
   "id": "58b012f3-bc07-4ab3-9e0a-b925ffa483c2",
   "metadata": {},
   "outputs": [
    {
     "data": {
      "image/png": "[encoded data removed]",
      "text/plain": [
       "<Figure size 720x288 with 2 Axes>"
      ]
     },
     "metadata": {
      "needs_background": "light"
     },
     "output_type": "display_data"
    }
   ],
   "source": [
    "fig=plt.figure(figsize=(10, 4))\n",
    "\n",
    "ax = plt.subplot(1, 2, 1)\n",
    "ax.title.set_text('TV')\n",
    "fig.add_subplot(ax)\n",
    "plt.scatter(X_test.iloc[:, 0], y_test, alpha=0.5)\n",
    "xs = np.linspace(0.0, X_test.iloc[:, 0].max(), X_test.shape[0])\n",
    "ys = f_hat(w_mean[0], augment(xs))\n",
    "plt.plot(xs, ys, c='r')\n",
    "\n",
    "ax = plt.subplot(1, 2, 2)\n",
    "ax.title.set_text('Newspaper')\n",
    "fig.add_subplot(ax)\n",
    "plt.scatter(X_test.iloc[:, 2], y_test, alpha=0.5)\n",
    "xs = np.linspace(0.0, X_test.iloc[:, 2].max(), X_test.shape[0])\n",
    "ys = f_hat(w_mean[2], augment(xs))\n",
    "plt.plot(xs, ys, c='r')\n",
    "\n",
    "\n",
    "plt.savefig('single_feature_LR_advertisement.png')\n",
    "plt.show()"
   ]
  },
  {
   "cell_type": "markdown",
   "id": "9bc9f53a-5614-4245-88a8-e3398b968417",
   "metadata": {},
   "source": [
    "# linear regression on all features"
   ]
  },
  {
   "cell_type": "code",
   "execution_count": 15,
   "id": "2e748a79-a0b1-4643-9f33-29e8d95ac337",
   "metadata": {},
   "outputs": [
    {
     "name": "stdout",
     "output_type": "stream",
     "text": [
      "training score:\t 0.8869568090855806\n",
      "test score:\t 0.9249122687342896\n",
      "[2.95720626e+00 4.52784492e-02 1.88824592e-01 1.69271791e-03]\n"
     ]
    }
   ],
   "source": [
    "#reg = LinearRegression().fit(X_train, y_train)\n",
    "reg = LinearRegression(normalize=True).fit(X_train, y_train)\n",
    "print(\"training score:\\t\", reg.score(X_train, y_train))\n",
    "print(\"test score:\\t\", reg.score(X_test, y_test)) # R2 score\n",
    "print(np.concatenate((np.array([reg.intercept_]), reg.coef_), axis=0))"
   ]
  },
  {
   "cell_type": "code",
   "execution_count": 16,
   "id": "b878e3bd-b21e-4e42-8015-f5bb2852b9a1",
   "metadata": {},
   "outputs": [],
   "source": [
    "nb_weights = data_X.shape[1]+1\n",
    "w_opt = np.zeros([iterations, nb_weights])\n",
    "R2_scores = np.zeros(iterations)\n",
    "\n",
    "w_mean = np.zeros([nb_weights])\n",
    "\n",
    "for i in np.arange(iterations):\n",
    "    X_train, X_test, y_train, y_test = train_test_split(data_X, data_y, test_size=0.25, train_size=0.75)\n",
    "    reg = LinearRegression(normalize=True).fit(X_train, y_train)\n",
    "    w = np.concatenate((np.array([reg.intercept_]), reg.coef_), axis=0)\n",
    "    w_opt[i] = w\n",
    "    R2_scores[i] = reg.score(X_test, y_test)\n",
    "    \n",
    "w_mean = w_opt.mean(axis=0)\n",
    "R2_mean = R2_scores.mean()"
   ]
  },
  {
   "cell_type": "code",
   "execution_count": 17,
   "id": "875dbb32-dee4-41f9-abcc-2177d965d3ee",
   "metadata": {},
   "outputs": [
    {
     "name": "stdout",
     "output_type": "stream",
     "text": [
      "[ 2.96528285e+00  4.57585753e-02  1.87319085e-01 -1.05951359e-03]\n",
      "0.8906828094221146\n",
      "89.07\n"
     ]
    }
   ],
   "source": [
    "print(w_mean)\n",
    "print(R2_mean)\n",
    "print(np.around(R2_mean*100,2))"
   ]
  },
  {
   "cell_type": "code",
   "execution_count": 18,
   "id": "aac56e85-6c26-4aa3-83c3-f6932db8d09c",
   "metadata": {},
   "outputs": [],
   "source": [
    "all_features = pd.DataFrame(w_mean, ['bias', 'w1', 'w2', 'w3'])"
   ]
  },
  {
   "cell_type": "code",
   "execution_count": 19,
   "id": "d55b4027-d63d-4d9c-81de-a7e0caa0f0d2",
   "metadata": {},
   "outputs": [
    {
     "data": {
      "text/html": [
       "<div>\n",
       "<style scoped>\n",
       "    .dataframe tbody tr th:only-of-type {\n",
       "        vertical-align: middle;\n",
       "    }\n",
       "\n",
       "    .dataframe tbody tr th {\n",
       "        vertical-align: top;\n",
       "    }\n",
       "\n",
       "    .dataframe thead th {\n",
       "        text-align: right;\n",
       "    }\n",
       "</style>\n",
       "<table border=\"1\" class=\"dataframe\">\n",
       "  <thead>\n",
       "    <tr style=\"text-align: right;\">\n",
       "      <th></th>\n",
       "      <th>0</th>\n",
       "    </tr>\n",
       "  </thead>\n",
       "  <tbody>\n",
       "    <tr>\n",
       "      <th>bias</th>\n",
       "      <td>2.965283</td>\n",
       "    </tr>\n",
       "    <tr>\n",
       "      <th>w1</th>\n",
       "      <td>0.045759</td>\n",
       "    </tr>\n",
       "    <tr>\n",
       "      <th>w2</th>\n",
       "      <td>0.187319</td>\n",
       "    </tr>\n",
       "    <tr>\n",
       "      <th>w3</th>\n",
       "      <td>-0.001060</td>\n",
       "    </tr>\n",
       "  </tbody>\n",
       "</table>\n",
       "</div>"
      ],
      "text/plain": [
       "             0\n",
       "bias  2.965283\n",
       "w1    0.045759\n",
       "w2    0.187319\n",
       "w3   -0.001060"
      ]
     },
     "execution_count": 19,
     "metadata": {},
     "output_type": "execute_result"
    }
   ],
   "source": [
    "all_features"
   ]
  },
  {
   "cell_type": "markdown",
   "id": "9eecc8c3-8c1f-4eb7-b6a9-e35ddf6d6434",
   "metadata": {},
   "source": [
    "# linear regression (leave one feature out)"
   ]
  },
  {
   "cell_type": "code",
   "execution_count": 20,
   "id": "4c63bb1d-efb3-4eab-9693-4fc7d3447744",
   "metadata": {},
   "outputs": [],
   "source": [
    "nb_weights = data_X.shape[1]\n",
    "w_opt = np.zeros([iterations, nb_weights])\n",
    "R2_scores = np.zeros(iterations)\n",
    "\n",
    "w_mean = np.zeros([data_X.shape[1], nb_weights])\n",
    "R2_mean = np.zeros([data_X.shape[1]])\n",
    "\n",
    "for f, col in enumerate(data_X):\n",
    "    X = data_X.loc[:, data_X.columns != col]\n",
    "    for i in np.arange(iterations):\n",
    "        X_train, X_test, y_train, y_test = train_test_split(X, data_y, test_size=0.25, train_size=0.75)\n",
    "        reg = LinearRegression(normalize=True).fit(X_train, y_train)\n",
    "        w = np.concatenate((np.array([reg.intercept_]), reg.coef_), axis=0)\n",
    "        \n",
    "        w_opt[i] = w\n",
    "        R2_scores[i] = reg.score(X_test, y_test)\n",
    "        \n",
    "    w_mean[f] = w_opt.mean(axis=0)\n",
    "    R2_mean[f] = R2_scores.mean()"
   ]
  },
  {
   "cell_type": "code",
   "execution_count": 21,
   "id": "c6a69951-b1b4-47b8-a786-fdc6bc6f6363",
   "metadata": {},
   "outputs": [
    {
     "name": "stdout",
     "output_type": "stream",
     "text": [
      "[[9.30127752e+00 1.95080864e-01 5.32030217e-03]\n",
      " [5.75212111e+00 4.71129185e-02 4.39889226e-02]\n",
      " [2.96136482e+00 4.57374556e-02 1.86335321e-01]]\n",
      "[0.33451026 0.61528364 0.89469428]\n",
      "[33.45 61.53 89.47]\n"
     ]
    }
   ],
   "source": [
    "print(w_mean)\n",
    "print(R2_mean)\n",
    "print(np.around(R2_mean*100,2))"
   ]
  },
  {
   "cell_type": "code",
   "execution_count": 22,
   "id": "d6225006-0e77-411b-b764-a95f4a9b4f8a",
   "metadata": {},
   "outputs": [],
   "source": [
    "df = pd.DataFrame(w_mean, ['TV', 'Radio', 'Newspaper'])"
   ]
  },
  {
   "cell_type": "code",
   "execution_count": 23,
   "id": "1ebbef75-cc42-47a9-95f8-750d773350ba",
   "metadata": {},
   "outputs": [
    {
     "data": {
      "text/html": [
       "<div>\n",
       "<style scoped>\n",
       "    .dataframe tbody tr th:only-of-type {\n",
       "        vertical-align: middle;\n",
       "    }\n",
       "\n",
       "    .dataframe tbody tr th {\n",
       "        vertical-align: top;\n",
       "    }\n",
       "\n",
       "    .dataframe thead th {\n",
       "        text-align: right;\n",
       "    }\n",
       "</style>\n",
       "<table border=\"1\" class=\"dataframe\">\n",
       "  <thead>\n",
       "    <tr style=\"text-align: right;\">\n",
       "      <th></th>\n",
       "      <th>0</th>\n",
       "      <th>1</th>\n",
       "      <th>2</th>\n",
       "    </tr>\n",
       "  </thead>\n",
       "  <tbody>\n",
       "    <tr>\n",
       "      <th>TV</th>\n",
       "      <td>9.301278</td>\n",
       "      <td>0.195081</td>\n",
       "      <td>0.005320</td>\n",
       "    </tr>\n",
       "    <tr>\n",
       "      <th>Radio</th>\n",
       "      <td>5.752121</td>\n",
       "      <td>0.047113</td>\n",
       "      <td>0.043989</td>\n",
       "    </tr>\n",
       "    <tr>\n",
       "      <th>Newspaper</th>\n",
       "      <td>2.961365</td>\n",
       "      <td>0.045737</td>\n",
       "      <td>0.186335</td>\n",
       "    </tr>\n",
       "  </tbody>\n",
       "</table>\n",
       "</div>"
      ],
      "text/plain": [
       "                  0         1         2\n",
       "TV         9.301278  0.195081  0.005320\n",
       "Radio      5.752121  0.047113  0.043989\n",
       "Newspaper  2.961365  0.045737  0.186335"
      ]
     },
     "execution_count": 23,
     "metadata": {},
     "output_type": "execute_result"
    }
   ],
   "source": [
    "df"
   ]
  },
  {
   "cell_type": "code",
   "execution_count": null,
   "id": "c4923c68-42ab-486a-8273-6e79331ecf00",
   "metadata": {},
   "outputs": [],
   "source": []
  }
 ],
 "metadata": {
  "kernelspec": {
   "display_name": "Python 3 (ipykernel)",
   "language": "python",
   "name": "python3"
  },
  "language_info": {
   "codemirror_mode": {
    "name": "ipython",
    "version": 3
   },
   "file_extension": ".py",
   "mimetype": "text/x-python",
   "name": "python",
   "nbconvert_exporter": "python",
   "pygments_lexer": "ipython3",
   "version": "3.8.12"
  }
 },
 "nbformat": 4,
 "nbformat_minor": 5
}
